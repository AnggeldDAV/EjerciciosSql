{
    "metadata": {
        "kernelspec": {
            "name": "SQL",
            "display_name": "SQL",
            "language": "sql"
        },
        "language_info": {
            "name": "sql",
            "version": ""
        }
    },
    "nbformat_minor": 2,
    "nbformat": 4,
    "cells": [
        {
            "cell_type": "markdown",
            "source": [
                "1\\. seleccionar los productos cuyo nombre (Name) tenga cinco caracteres"
            ],
            "metadata": {
                "azdata_cell_guid": "e9cf6643-c5de-4de8-91f5-1200ceb167b4"
            },
            "attachments": {}
        },
        {
            "cell_type": "code",
            "source": [
                "Select Name From Production.Product as pro where LEN(pro.Name)<=5;"
            ],
            "metadata": {
                "azdata_cell_guid": "dc36e028-2ec0-4ce6-8972-a204bb54b2f9",
                "language": "sql",
                "tags": []
            },
            "outputs": [],
            "execution_count": null
        },
        {
            "cell_type": "markdown",
            "source": [
                "2\\. seleccionar los productos cuyo color sea Rojo (Red)"
            ],
            "metadata": {
                "azdata_cell_guid": "96cbf46b-cea2-4ef4-954c-b3ae333b4896"
            },
            "attachments": {}
        },
        {
            "cell_type": "code",
            "source": [
                "Select * From Production.Product as pro where pro.color = 'Red';"
            ],
            "metadata": {
                "azdata_cell_guid": "8ce43fee-49a8-4683-a205-639529a0cd00",
                "language": "sql"
            },
            "outputs": [],
            "execution_count": null
        },
        {
            "cell_type": "markdown",
            "source": [
                "3\\. seleccionar los productos cuyo color sea Azul (Blue) y ordenados por Name"
            ],
            "metadata": {
                "azdata_cell_guid": "5d8292b1-4360-4b1d-bb26-b66a2fe659ec"
            },
            "attachments": {}
        },
        {
            "cell_type": "code",
            "source": [
                "Select * From Production.Product as pro where pro.Color = 'Blue' ORDER BY Name;"
            ],
            "metadata": {
                "azdata_cell_guid": "f5ee8f76-dca1-4c5d-8832-0aa73d5e26c8",
                "language": "sql"
            },
            "outputs": [],
            "execution_count": null
        },
        {
            "cell_type": "markdown",
            "source": [
                "4\\. seleccionar los productos cuyo color sea Azul o Rojo"
            ],
            "metadata": {
                "azdata_cell_guid": "421e3330-39c6-4f50-a1d9-0170df1c9d1d"
            },
            "attachments": {}
        },
        {
            "cell_type": "code",
            "source": [
                "Select * From Production.Product as pro where (pro.Color = 'Blue' OR pro.Color = 'Red');"
            ],
            "metadata": {
                "azdata_cell_guid": "f2538f98-4d4a-42d4-ad39-640f2eab24e5",
                "language": "sql"
            },
            "outputs": [],
            "execution_count": null
        },
        {
            "cell_type": "markdown",
            "source": [
                "5\\. seleccionar los productos cuyo nombre (Name) tenga nueve caracteres y sean color \n",
                "\n",
                "plata (Silver)"
            ],
            "metadata": {
                "azdata_cell_guid": "8508119c-f600-4d6e-ac78-664e0d66e1fd"
            },
            "attachments": {}
        },
        {
            "cell_type": "code",
            "source": [
                "SELECT * From Production.Product  as pro where LEN(pro.Name) = 9 and pro.Color = 'Silver';"
            ],
            "metadata": {
                "azdata_cell_guid": "51644527-875e-4679-95a0-5af1900e23e1",
                "language": "sql"
            },
            "outputs": [],
            "execution_count": null
        },
        {
            "cell_type": "markdown",
            "source": [
                "6\\. seleccionar los productos cuyo color sea Negro o Plata y tenga 11 caracteres."
            ],
            "metadata": {
                "azdata_cell_guid": "29efcbef-db9a-4e5c-868d-d19db42abef4"
            },
            "attachments": {}
        },
        {
            "cell_type": "code",
            "source": [
                "SELECT * From Production.Product as pro where (pro.Color = 'Black' or pro.Color = 'Silver') and (LEN(pro.Name) = 11);"
            ],
            "metadata": {
                "azdata_cell_guid": "7e729256-cd66-43e8-b2fa-e2cc062acc8a",
                "language": "sql"
            },
            "outputs": [],
            "execution_count": null
        },
        {
            "cell_type": "markdown",
            "source": [
                "7\\. seleccionar todos los productos cuya SellStartDate sea 2008-04-30"
            ],
            "metadata": {
                "azdata_cell_guid": "8d1901a5-3aa3-40ee-82b1-d43902cb7179"
            },
            "attachments": {}
        },
        {
            "cell_type": "code",
            "source": [
                "SELECT * From Production.Product as pro where pro.SellStartDate = '2008-04-30';"
            ],
            "metadata": {
                "azdata_cell_guid": "4e1578c3-6f26-49a9-9476-dc6832a21093",
                "language": "sql"
            },
            "outputs": [],
            "execution_count": null
        },
        {
            "cell_type": "markdown",
            "source": [
                "8\\. seleccionar todos los productos cuyo SellStartDate sea del año 2008"
            ],
            "metadata": {
                "azdata_cell_guid": "0a23b4b5-89b8-40b1-8a79-1df15796598e"
            },
            "attachments": {}
        },
        {
            "cell_type": "code",
            "source": [
                "SELECT * From Production.Product as pro where (YEAR(pro.SellStartDate) = 2008);"
            ],
            "metadata": {
                "azdata_cell_guid": "118d7b40-2782-4a57-9f04-a8b0e5c35627",
                "language": "sql"
            },
            "outputs": [],
            "execution_count": null
        },
        {
            "cell_type": "markdown",
            "source": [
                "9\\. seleccionar todos los productos cuyo SellStartDate sea de Abril"
            ],
            "metadata": {
                "azdata_cell_guid": "96a0ff48-e97b-4689-85fd-4ff3e039a14d"
            },
            "attachments": {}
        },
        {
            "cell_type": "code",
            "source": [
                "SELECT * From Production.Product as pro where MONTH(pro.SellStartDate) = 04 ;"
            ],
            "metadata": {
                "azdata_cell_guid": "861b3551-7e40-4a4a-a8b8-1f694a2477f6",
                "language": "sql"
            },
            "outputs": [],
            "execution_count": null
        },
        {
            "cell_type": "markdown",
            "source": [
                "10\\. seleccionar todos los productos que comienzan por a"
            ],
            "metadata": {
                "azdata_cell_guid": "0f49af25-a862-41b8-b247-32a926d08705"
            },
            "attachments": {}
        },
        {
            "cell_type": "code",
            "source": [
                "SELECT * From Production.Product as pro where pro.Name LIKE 'a%';"
            ],
            "metadata": {
                "azdata_cell_guid": "d8b54dc0-b669-47c2-986f-b2e5354fc9dc",
                "language": "sql"
            },
            "outputs": [],
            "execution_count": null
        },
        {
            "cell_type": "markdown",
            "source": [
                "11\\. seleccionar todos los productos que terminan con g"
            ],
            "metadata": {
                "azdata_cell_guid": "8a3e77cb-5012-4958-8153-a4e20c8fddbd"
            },
            "attachments": {}
        },
        {
            "cell_type": "code",
            "source": [
                "SELECT * From Production.Product as pro where pro.Name LIKE '%g';"
            ],
            "metadata": {
                "azdata_cell_guid": "20162f17-1970-4fa2-920c-acca14feaa1a",
                "language": "sql"
            },
            "outputs": [],
            "execution_count": null
        },
        {
            "cell_type": "markdown",
            "source": [
                "12\\. seleccionar todos los productos que comienzan por C y terminan por g"
            ],
            "metadata": {
                "azdata_cell_guid": "b5d0b24c-dae4-47af-9440-f26d9dd46507"
            },
            "attachments": {}
        },
        {
            "cell_type": "code",
            "source": [
                "SELECT * From Production.Product as pro where pro.Name LIKE 'C%g';"
            ],
            "metadata": {
                "azdata_cell_guid": "46ebd342-a13f-4431-806f-40ad967046f9",
                "language": "sql"
            },
            "outputs": [],
            "execution_count": null
        },
        {
            "cell_type": "markdown",
            "source": [
                "13\\. seleccionar todos los productos que contengan una a"
            ],
            "metadata": {
                "azdata_cell_guid": "3086858d-a599-4d54-a6be-ea22e4192c08"
            },
            "attachments": {}
        },
        {
            "cell_type": "code",
            "source": [
                "SELECT * From Production.Product as pro where pro.Name LIKE '%a%';"
            ],
            "metadata": {
                "azdata_cell_guid": "98fae401-4d2c-4873-a0db-6388a8a388ca",
                "language": "sql"
            },
            "outputs": [],
            "execution_count": null
        },
        {
            "cell_type": "markdown",
            "source": [
                "14\\. seleccionar todos los productos cuya SellstartDate sea del año 2008 y comiencen por \n",
                "\n",
                "C, terminan por g y son de color Plata (Silver)"
            ],
            "metadata": {
                "azdata_cell_guid": "43d484aa-e1d0-466f-b5c1-12363ee6b5fc"
            },
            "attachments": {}
        },
        {
            "cell_type": "code",
            "source": [
                "SELECT * FROM Production.Product as pro WHERE (YEAR(pro.SellStartDate) = '2008') and (pro.Name LIKE 'C%g') and (pro.Color = 'Silver');"
            ],
            "metadata": {
                "azdata_cell_guid": "5a4fca81-b564-4ea8-9aed-f273ded6565f",
                "language": "sql"
            },
            "outputs": [],
            "execution_count": null
        },
        {
            "cell_type": "markdown",
            "source": [
                "15\\. seleccionar todos los productos y cuyo peso Weight esté entre 15 y 20."
            ],
            "metadata": {
                "azdata_cell_guid": "81699e7e-ebc8-4a7d-9c12-b81c46d0870b"
            },
            "attachments": {}
        },
        {
            "cell_type": "code",
            "source": [
                "SELECT * From Production.Product as pro where (pro.Weight BETWEEN 15 and 20);"
            ],
            "metadata": {
                "azdata_cell_guid": "fdbf317d-daa1-47b7-b539-f0c1c49d51ac",
                "language": "sql"
            },
            "outputs": [],
            "execution_count": null
        },
        {
            "cell_type": "markdown",
            "source": [
                "16\\. seleccionar todos los productos cuyo peso Weight esté entre 15 y 20 y su Size es 42,44 \n",
                "\n",
                "o 46."
            ],
            "metadata": {
                "azdata_cell_guid": "d8805a09-7e51-44aa-b0f8-c8d12a576994"
            },
            "attachments": {}
        },
        {
            "cell_type": "code",
            "source": [
                "SELECT * From Production.Product as pro where (pro.Weight BETWEEN 15 and 20) and (pro.Size in('42','44','46'));"
            ],
            "metadata": {
                "azdata_cell_guid": "f8187444-34f2-4786-bc79-71b39d971da8",
                "language": "sql"
            },
            "outputs": [],
            "execution_count": null
        },
        {
            "cell_type": "markdown",
            "source": [
                "17\\. seleccionar todos los productos cuyo SellStartDate esté entre 2008-04-30 y una \n",
                "\n",
                "semana después"
            ],
            "metadata": {
                "azdata_cell_guid": "725b1824-dad0-4b74-9347-66affe21b87f"
            },
            "attachments": {}
        },
        {
            "cell_type": "code",
            "source": [
                ""
            ],
            "metadata": {
                "azdata_cell_guid": "ee2161ae-53f6-4fc2-8aea-c3ffd16db17b",
                "language": "sql"
            },
            "outputs": [],
            "execution_count": null
        },
        {
            "cell_type": "markdown",
            "source": [
                "18.Sacar una lista con todos los productos ordenados por color que no sean del color rojo."
            ],
            "metadata": {
                "azdata_cell_guid": "bd37328a-beef-4799-b1fe-cf82da565413"
            },
            "attachments": {}
        },
        {
            "cell_type": "code",
            "source": [
                "select * from Production.Product as pro where (pro.Color not LIKE 'Red');"
            ],
            "metadata": {
                "azdata_cell_guid": "b339bf98-950c-4ce6-ad53-d8503800d391",
                "language": "sql"
            },
            "outputs": [],
            "execution_count": null
        },
        {
            "cell_type": "markdown",
            "source": [
                "19.Sacar una lista con todos los productos ordenados por nombre que contengan la letra A al inicio."
            ],
            "metadata": {
                "azdata_cell_guid": "adf8a521-104b-487f-9d24-545cda23cf48"
            },
            "attachments": {}
        },
        {
            "cell_type": "code",
            "source": [
                "select * from Production.Product as pro where (pro.Name like 'A%');"
            ],
            "metadata": {
                "azdata_cell_guid": "2e2c7e78-f42d-4a6c-b308-5c630b37423c",
                "language": "sql"
            },
            "outputs": [],
            "execution_count": null
        }
    ]
}