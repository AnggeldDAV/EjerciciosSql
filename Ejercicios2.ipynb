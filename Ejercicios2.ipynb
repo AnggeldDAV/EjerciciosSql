{
    "metadata": {
        "kernelspec": {
            "name": "SQL",
            "display_name": "SQL",
            "language": "sql"
        },
        "language_info": {
            "name": "sql",
            "version": ""
        }
    },
    "nbformat_minor": 2,
    "nbformat": 4,
    "cells": [
        {
            "cell_type": "markdown",
            "source": [
                "Contar cuantos productos hay de cada color."
            ],
            "metadata": {
                "azdata_cell_guid": "9e070f0b-ec80-4f8a-b65a-d93231038c04"
            },
            "attachments": {}
        },
        {
            "cell_type": "code",
            "source": [
                "select COUNT(*) as Numero, pro.Color from Production.Product as pro GROUP BY pro.Color;"
            ],
            "metadata": {
                "azdata_cell_guid": "32dc2ef3-7f04-4b8c-a83f-635024a87046",
                "language": "sql"
            },
            "outputs": [],
            "execution_count": null
        },
        {
            "cell_type": "markdown",
            "source": [
                "Contar cuantos productos hay en la tabla de productos."
            ],
            "metadata": {
                "azdata_cell_guid": "6b6cb359-5cb3-403b-9115-6801694c4eea"
            },
            "attachments": {}
        },
        {
            "cell_type": "code",
            "source": [
                "select COUNT(*) as Numero from Production.Product;"
            ],
            "metadata": {
                "azdata_cell_guid": "57eee1fb-b59f-43e6-ae2c-958c19a278e2",
                "language": "sql"
            },
            "outputs": [],
            "execution_count": null
        },
        {
            "cell_type": "markdown",
            "source": [
                "Contar cuantos productos hay que sean de color verde."
            ],
            "metadata": {
                "azdata_cell_guid": "83941795-f6b5-4743-a522-898f28126cd6"
            },
            "attachments": {}
        },
        {
            "cell_type": "code",
            "source": [
                "select COUNT(*) as NumeroRojos from Production.Product as pro WHERE pro.Color LIKE 'red';"
            ],
            "metadata": {
                "azdata_cell_guid": "a7534e90-e5ed-4ad9-b691-fd005cb77d4b",
                "language": "sql"
            },
            "outputs": [],
            "execution_count": null
        },
        {
            "cell_type": "markdown",
            "source": [
                "Hallar el valor máximo de los productos de cada color."
            ],
            "metadata": {
                "azdata_cell_guid": "f68c0075-eeb6-4685-b186-ca39f07b2828"
            },
            "attachments": {}
        },
        {
            "cell_type": "code",
            "source": [
                "SELECT MAX(ListPrice) as Precio, Color FROM Production.Product as pro GROUP BY pro.Color;"
            ],
            "metadata": {
                "azdata_cell_guid": "03b4df6f-8926-4556-a51f-7866b0aba28e",
                "language": "sql"
            },
            "outputs": [],
            "execution_count": null
        },
        {
            "cell_type": "markdown",
            "source": [
                "Hallar cual son los cinco productos con menor listprice y que no sean cero."
            ],
            "metadata": {
                "azdata_cell_guid": "d65ca7a3-bdfc-4a26-86ae-53fb1546ccc3"
            },
            "attachments": {}
        },
        {
            "cell_type": "code",
            "source": [
                "select top 5 name,ListPrice from Production.Product as pro WHERE pro.ListPrice <> 0 ORDER by pro.ListPrice ;"
            ],
            "metadata": {
                "azdata_cell_guid": "dc42d634-a6a4-4741-a872-ed2e6b55c31b",
                "language": "sql"
            },
            "outputs": [],
            "execution_count": null
        },
        {
            "cell_type": "markdown",
            "source": [
                "Calcular la media de tiempo de fabricación para los productos que no tienen color."
            ],
            "metadata": {
                "azdata_cell_guid": "a0801819-212b-4e9c-bad1-cca106f1c877"
            },
            "attachments": {}
        },
        {
            "cell_type": "code",
            "source": [
                "select AVG(DaysToManufacture) as tiempo from Production.Product where Color is null;"
            ],
            "metadata": {
                "azdata_cell_guid": "6db8b302-664e-4227-902a-6d508b1a27b5",
                "language": "sql"
            },
            "outputs": [],
            "execution_count": null
        },
        {
            "cell_type": "markdown",
            "source": [
                "Calcular cual es la media de los productos de color rojo, verde y azul, recordar que los colores están en inglés (red,green,blue). Quiero una media por color, por ejemplo de red, la media del precio es 100, de green 120 y también quiero la media de los productos que sean de uno de los tres colores."
            ],
            "metadata": {
                "azdata_cell_guid": "b8ce8b03-e4a9-41dd-9077-33d63e7e6990"
            },
            "attachments": {}
        },
        {
            "cell_type": "code",
            "source": [
                "select avg(ListPrice)as mediaPrecio,Color from Production.Product where Color in ('red','green','blue') GROUP by Color;"
            ],
            "metadata": {
                "azdata_cell_guid": "65f4268b-6456-4ea7-a370-b9215fb42867",
                "language": "sql"
            },
            "outputs": [],
            "execution_count": null
        },
        {
            "cell_type": "markdown",
            "source": [
                "Mostrar aquellos colores cuya cantidad de productos sea mayor que cincuenta"
            ],
            "metadata": {
                "azdata_cell_guid": "aefa4c2d-a83b-4918-b1cf-7d306fbdf3f6"
            },
            "attachments": {}
        },
        {
            "cell_type": "code",
            "source": [
                "SELECT color, count(*) as productos from Production.Product GROUP by color having count(*) >50;"
            ],
            "metadata": {
                "azdata_cell_guid": "c947cf4a-f81e-4008-9618-004326d0869d",
                "language": "sql"
            },
            "outputs": [],
            "execution_count": null
        }
    ]
}