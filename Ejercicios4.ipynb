{
    "metadata": {
        "kernelspec": {
            "name": "SQL",
            "display_name": "SQL",
            "language": "sql"
        },
        "language_info": {
            "name": "sql",
            "version": ""
        }
    },
    "nbformat_minor": 2,
    "nbformat": 4,
    "cells": [
        {
            "cell_type": "markdown",
            "source": [
                "La tabla Sales.SalesOrderDetail contiene el detalle de las facturas de venta\n",
                "\n",
                "La tabla Production.ProductSubCategory contiene la subcategoria a la que pertenece un producto."
            ],
            "metadata": {
                "azdata_cell_guid": "93bc9754-f703-4adf-8732-62dd38563ab8"
            },
            "attachments": {}
        },
        {
            "cell_type": "markdown",
            "source": [
                "1\\. Queremos saber cuantos productos hay para cada categoria, el total de productos debe ser de 504."
            ],
            "metadata": {
                "azdata_cell_guid": "725aec10-023e-4951-a7c0-2e588ce76430"
            },
            "attachments": {}
        },
        {
            "cell_type": "code",
            "source": [
                "select Production.ProductSubcategory.Name,COUNT(*) as cantidad from Production.Product LEFT JOIN Production.ProductSubcategory on Production.Product.ProductSubcategoryID = Production.ProductSubcategory.ProductSubcategoryID group by Production.ProductSubcategory.Name;"
            ],
            "metadata": {
                "azdata_cell_guid": "7612e4d9-bc60-4b3d-96d8-c9eee04bb3df",
                "language": "sql"
            },
            "outputs": [],
            "execution_count": null
        },
        {
            "cell_type": "markdown",
            "source": [
                "2\\. Queremos saber que cantidad de un producto se ha vendido en total (el campo quantity), para cada producto, el total de productos debe de ser de 504."
            ],
            "metadata": {
                "azdata_cell_guid": "0e37b63e-73cc-423e-a20f-5dfbd0c150bf"
            },
            "attachments": {}
        },
        {
            "cell_type": "code",
            "source": [
                "select sum(OrderQty) as cantidad from Production.Product LEFT JOIN sales.SalesOrderDetail on Production.Product.ProductID= Sales.SalesOrderDetail.ProductID group by Production.Product.ProductID;"
            ],
            "metadata": {
                "azdata_cell_guid": "cd137244-54c4-4c28-af02-ed18adb99736",
                "language": "sql"
            },
            "outputs": [],
            "execution_count": null
        },
        {
            "cell_type": "markdown",
            "source": [
                "3.- Queremos saber cual es el precio medio al que se ha vendido cada producto, <span style=\"color: var(--vscode-foreground);\">la función avg sobre el campo Price.</span>"
            ],
            "metadata": {
                "azdata_cell_guid": "5903fd8d-3112-405e-a2e0-edad521e05b0"
            },
            "attachments": {}
        },
        {
            "cell_type": "code",
            "source": [
                "select AVG(s.UnitPrice) as precioMedio, p.ProductID from Production.Product as P inner join sales.SalesOrderDetail as S on P.ProductID = S.ProductID group by p.ProductID;"
            ],
            "metadata": {
                "azdata_cell_guid": "6e8d3476-9031-4e54-8dbb-0c621c09e749",
                "language": "sql"
            },
            "outputs": [],
            "execution_count": null
        },
        {
            "cell_type": "markdown",
            "source": [
                "4.- Queremos saber cuales son los 10 productos más vendidos y los que menos,  <span style=\"color: var(--vscode-foreground);\">excluir en los que menos aquellos que no se han vendido.</span>"
            ],
            "metadata": {
                "azdata_cell_guid": "ce29dd70-fd21-41c9-847c-3b8c8a38defe"
            },
            "attachments": {}
        },
        {
            "cell_type": "code",
            "source": [
                "select top(10) P.ProductID, SUM(OrderQty) as ventas from Production.Product as p INNER JOIN Sales.SalesOrderDetail as s on p.ProductID = s.ProductID group by p.ProductID ORDER BY ventas desc;\r\n",
                "select top(10) P.ProductID, SUM(OrderQty) as ventas from Production.Product as p INNER JOIN Sales.SalesOrderDetail as s on p.ProductID = s.ProductID  group by p.ProductID ORDER BY ventas;"
            ],
            "metadata": {
                "azdata_cell_guid": "1c84ab4a-ab5e-4997-a82d-6057ca136270",
                "language": "sql",
                "tags": [
                    "hide_input"
                ]
            },
            "outputs": [],
            "execution_count": null
        },
        {
            "cell_type": "markdown",
            "source": [
                "5.- Los productos pertenecen a una clase, campo class de product quiero saber cuanto <span style=\"color: var(--vscode-foreground);\">se ha vendido de cada clase</span>"
            ],
            "metadata": {
                "azdata_cell_guid": "7c7cfb44-7c6f-45cf-a281-64e851d0f86e"
            },
            "attachments": {}
        },
        {
            "cell_type": "code",
            "source": [
                "select p.Class,SUM(OrderQty) from Production.Product as p left join sales.SalesOrderDetail as s on p.ProductID = s.ProductID group by p.Class;"
            ],
            "metadata": {
                "azdata_cell_guid": "9600b678-ad4b-4dcc-9365-f949889a03f4",
                "language": "sql"
            },
            "outputs": [],
            "execution_count": null
        },
        {
            "cell_type": "markdown",
            "source": [
                "6.- idem 5, pero por cada color, tener en cuenta que los colores que son nulos se consideran transparentes."
            ],
            "metadata": {
                "azdata_cell_guid": "458cbacf-9ac6-494b-926d-9e079f3a11d2"
            },
            "attachments": {}
        },
        {
            "cell_type": "code",
            "source": [
                "select coalesce(p.Color,'Transparent') as color ,SUM(OrderQty) as ventas from Production.Product as p left join sales.SalesOrderDetail as s on p.ProductID = s.ProductID group by p.Color;"
            ],
            "metadata": {
                "azdata_cell_guid": "ee72aae0-b698-4184-84fe-758f5bf25b8e",
                "language": "sql"
            },
            "outputs": [],
            "execution_count": null
        },
        {
            "cell_type": "markdown",
            "source": [
                "7.- quiero saber cuanto de cada subcategoria y color, por ejemplo cascos - rojos cuantas unidades se han vendido."
            ],
            "metadata": {
                "azdata_cell_guid": "0b04851a-ca35-442a-83d9-3bec756e2d6a"
            },
            "attachments": {}
        },
        {
            "cell_type": "code",
            "source": [
                "SELECT  SUM(OrderQty) AS VENTAS, ProductSubcategory.Name, Product.Color FROM Production.Product \r\n",
                "INNER JOIN Production.ProductSubcategory ON Product.ProductSubcategoryID = ProductSubcategory.ProductSubcategoryID  \r\n",
                "LEFT JOIN Sales.SalesOrderDetail ON Sales.SalesOrderDetail.ProductID = Product.ProductID\r\n",
                "GROUP BY ProductSubcategory.Name, Product.Color"
            ],
            "metadata": {
                "azdata_cell_guid": "31fdda60-f430-4de7-b3dd-895827aa610b",
                "language": "sql",
                "tags": []
            },
            "outputs": [],
            "execution_count": null
        },
        {
            "cell_type": "markdown",
            "source": [
                "8.- Quiero saber cuales son el 20% de productos que menos se han vendido."
            ],
            "metadata": {
                "azdata_cell_guid": "7cdff0cb-53e8-4341-9c27-2187eb098e99"
            },
            "attachments": {}
        },
        {
            "cell_type": "code",
            "source": [
                "select top(20) PERCENT P.Name, SUM(OrderQty) as ventas from Production.Product as p \r\n",
                "left JOIN Sales.SalesOrderDetail as s on p.ProductID = s.ProductID  \r\n",
                "group by p.Name\r\n",
                "ORDER BY ventas;"
            ],
            "metadata": {
                "azdata_cell_guid": "f8e70a23-aab4-4249-bca2-ea378e5e0f94",
                "language": "sql"
            },
            "outputs": [],
            "execution_count": null
        },
        {
            "cell_type": "markdown",
            "source": [
                "9.- Quiero saber cuales son el 10% de productos que más se han vendido."
            ],
            "metadata": {
                "azdata_cell_guid": "afcd3ac8-4de8-4e8b-ba25-6a8fbc820cd8"
            },
            "attachments": {}
        },
        {
            "cell_type": "code",
            "source": [
                "select top(10) PERCENT P.Name, SUM(OrderQty) as ventas from Production.Product as p \r\n",
                "left JOIN Sales.SalesOrderDetail as s on p.ProductID = s.ProductID  \r\n",
                "group by p.name \r\n",
                "ORDER BY ventas desc;"
            ],
            "metadata": {
                "azdata_cell_guid": "e1c299fc-533c-4726-be76-bdc9eb3611c2",
                "language": "sql",
                "tags": []
            },
            "outputs": [],
            "execution_count": null
        },
        {
            "cell_type": "markdown",
            "source": [
                "10.- Para cada color, quiero saber cual ha sido el precio medio de venta para ese color."
            ],
            "metadata": {
                "azdata_cell_guid": "dcfe5a73-3af3-4952-b659-52e3efee7da8"
            },
            "attachments": {}
        },
        {
            "cell_type": "code",
            "source": [
                "select coalesce(Product.Color,'Transparent') as color, AVG(UnitPrice) as precioMedio from Production.Product\r\n",
                "inner join Sales.SalesOrderDetail on Product.ProductID = SalesOrderDetail.ProductID\r\n",
                "GROUP by Product.Color;"
            ],
            "metadata": {
                "azdata_cell_guid": "562cacee-059b-4763-8722-5813f41a9e8f",
                "language": "sql"
            },
            "outputs": [],
            "execution_count": null
        },
        {
            "cell_type": "markdown",
            "source": [
                "11.- Cuantas facturas hay con una sóla línea (Hay un campo que se denomina SalesOrderId que es el <span style=\"color: var(--vscode-foreground);\">identificativo de la factura, por tanto el número de líneas para esa factura sería 1.</span>"
            ],
            "metadata": {
                "azdata_cell_guid": "c99d9514-ecd6-4e6a-a8f3-55d5cd186938"
            },
            "attachments": {}
        },
        {
            "cell_type": "code",
            "source": [
                "select SalesOrderID, COUNT(*) as lineas from Sales.SalesOrderDetail\r\n",
                "GROUP by SalesOrderID\r\n",
                "HAVING (COUNT(*) = 1)\r\n",
                ""
            ],
            "metadata": {
                "azdata_cell_guid": "16fde326-06fb-4d78-90e4-df6e797bc4e7",
                "language": "sql"
            },
            "outputs": [],
            "execution_count": null
        },
        {
            "cell_type": "markdown",
            "source": [
                "12.- Cuantos cascos rojos se han vendido."
            ],
            "metadata": {
                "azdata_cell_guid": "b76bf760-9058-4ee7-ba0a-c0a6ee31b5e3"
            },
            "attachments": {}
        },
        {
            "cell_type": "code",
            "source": [
                "select ProductSubcategory.Name as cascos, Product.Color, sum(OrderQty) as ventas from Production.ProductSubcategory\r\n",
                "INNER JOIN Production.Product on Product.ProductSubcategoryID = ProductSubcategory.ProductSubcategoryID\r\n",
                "INNER JOIN Sales.SalesOrderDetail on SalesOrderDetail.ProductID = Product.ProductID\r\n",
                "where (ProductSubcategory.Name like 'helmets') and (Product.Color like 'red')\r\n",
                "GROUP by ProductSubcategory.Name, Product.Color;\r\n",
                ""
            ],
            "metadata": {
                "azdata_cell_guid": "763034ec-5a36-4910-a2bd-0fb927e52058",
                "language": "sql"
            },
            "outputs": [],
            "execution_count": null
        },
        {
            "cell_type": "markdown",
            "source": [
                "13.- Muestra las cinco ventas de más importe que se han producido. El importe de la linea <span style=\"color: var(--vscode-foreground);\">creo que es totalAmount.</span>"
            ],
            "metadata": {
                "azdata_cell_guid": "f20e6243-5c23-4635-a6c3-469c4d462d6a"
            },
            "attachments": {}
        },
        {
            "cell_type": "code",
            "source": [
                "select top (5) Product.Name,LineTotal from Sales.SalesOrderDetail\r\n",
                "INNER JOIN Production.Product on SalesOrderDetail.ProductID = Product.ProductID\r\n",
                "ORDER BY LineTotal DESC\r\n",
                ""
            ],
            "metadata": {
                "azdata_cell_guid": "ecaebe9f-7cd6-4d21-bf23-f970f0f9b2e2",
                "language": "sql"
            },
            "outputs": [],
            "execution_count": null
        },
        {
            "cell_type": "markdown",
            "source": [
                "14.- Quiero saber cuanto se ha vendido de cada color (teniendo en cuenta transparentes) y que me salgan sólo <span style=\"color: var(--vscode-foreground);\">los tres colores que más se han vendido.</span>"
            ],
            "metadata": {
                "azdata_cell_guid": "aee18d07-2d26-472d-bdad-b4b8f8b5ae85"
            },
            "attachments": {}
        },
        {
            "cell_type": "code",
            "source": [
                "select top (3) coalesce(Product.Color,'Transparent')as color, coalesce(SUM(OrderQty),0) as ventas from Production.Product\r\n",
                "LEFT JOIN Sales.SalesOrderDetail on Sales.SalesOrderDetail.ProductID = Product.ProductID\r\n",
                "GROUP by Product.Color\r\n",
                "ORDER BY ventas desc\r\n",
                ""
            ],
            "metadata": {
                "azdata_cell_guid": "6e0665af-c02e-44ae-bd36-b10a8e3bd8b6",
                "language": "sql"
            },
            "outputs": [],
            "execution_count": null
        },
        {
            "cell_type": "markdown",
            "source": [
                "15.- Para cada producto quiero saber cual es el mayor precio por el que hemos vendido un producto."
            ],
            "metadata": {
                "azdata_cell_guid": "d3aa9f6b-4359-4712-9882-64ba0ec8b0f4"
            },
            "attachments": {}
        },
        {
            "cell_type": "code",
            "source": [
                "select Product.Name, max(UnitPrice) as mayorPrecio from Production.Product\r\n",
                "inner join Sales.SalesOrderDetail on SalesOrderDetail.ProductID = Product.ProductID\r\n",
                "GROUP by Product.Name\r\n",
                ""
            ],
            "metadata": {
                "azdata_cell_guid": "5b868691-d4c4-4b10-8a82-557ab7d2f362",
                "language": "sql"
            },
            "outputs": [],
            "execution_count": null
        },
        {
            "cell_type": "markdown",
            "source": [
                "16.- Quiero ver cuanto se ha vendido de la talla (Size) 45 de color rojo. Sumar las cantidades vendidas."
            ],
            "metadata": {
                "azdata_cell_guid": "4a569fcb-f57e-419f-97df-ce136cfde598"
            },
            "attachments": {}
        },
        {
            "cell_type": "code",
            "source": [
                "select sum(OrderQty) as ventas from Production.Product\r\n",
                "INNER JOIN Sales.SalesOrderDetail on SalesOrderDetail.ProductID = Product.ProductID\r\n",
                "where Product.Color = 'red' and Product.[Size] = 45\r\n",
                ""
            ],
            "metadata": {
                "azdata_cell_guid": "b29c94bc-2955-4772-b1a2-496895d7ce1b",
                "language": "sql",
                "tags": [
                    "hide_input"
                ]
            },
            "outputs": [],
            "execution_count": null
        },
        {
            "cell_type": "markdown",
            "source": [
                "17.- Quiero saber cuanto se ha vendido de un producto, el problema es que mi jefe quiere que cada producto <span style=\"color: var(--vscode-foreground);\">salga descrito como sigue ProductID + Name + (Class - Color).</span>"
            ],
            "metadata": {
                "azdata_cell_guid": "c3d73071-6221-4a03-a345-d4d3b679affe"
            },
            "attachments": {}
        },
        {
            "cell_type": "code",
            "source": [
                "select CONCAT(Product.ProductID,Product.Name,'(',Production.Product.Color,')') as Nombre, coalesce(SUM(OrderQty),0) as Ventas from Production.Product\r\n",
                "left join Sales.SalesOrderDetail on SalesOrderDetail.ProductID = Product.ProductID\r\n",
                "GROUP by CONCAT(Product.ProductID,Product.Name,'(',Production.Product.Color,')')"
            ],
            "metadata": {
                "azdata_cell_guid": "3de0403c-4e58-4cb3-b714-8ee05ba76070",
                "language": "sql",
                "tags": []
            },
            "outputs": [],
            "execution_count": null
        },
        {
            "cell_type": "markdown",
            "source": [
                "18.- Cual es el total ganado, la suma de SalesOrderDetail de dinero."
            ],
            "metadata": {
                "azdata_cell_guid": "d3e01e5d-d298-4eeb-acf5-f5777365aafe"
            },
            "attachments": {}
        },
        {
            "cell_type": "code",
            "source": [
                "select sum(LineTotal) as Total from Sales.SalesOrderDetail"
            ],
            "metadata": {
                "azdata_cell_guid": "83eef571-6e9b-453b-a62a-842b61f64b20",
                "language": "sql"
            },
            "outputs": [],
            "execution_count": null
        }
    ]
}