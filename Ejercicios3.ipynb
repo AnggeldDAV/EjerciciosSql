{
    "metadata": {
        "kernelspec": {
            "name": "SQL",
            "display_name": "SQL",
            "language": "sql"
        },
        "language_info": {
            "name": "sql",
            "version": ""
        }
    },
    "nbformat_minor": 2,
    "nbformat": 4,
    "cells": [
        {
            "cell_type": "markdown",
            "source": [
                "1\\. Mostrar todos los ingredientes ordenados por precio gramo de forma descendente."
            ],
            "metadata": {
                "azdata_cell_guid": "0886342c-6cae-456e-933e-a13c555f4f86"
            },
            "attachments": {}
        },
        {
            "cell_type": "code",
            "source": [
                "select * from INGREDIENTES order by PRECIO_GRAMO desc;"
            ],
            "metadata": {
                "azdata_cell_guid": "9f42dc1f-1461-4847-a100-cad71f930b7b",
                "language": "sql"
            },
            "outputs": [],
            "execution_count": null
        },
        {
            "cell_type": "markdown",
            "source": [
                "2\\. Mostrar todos los ingredientes que comiencen por A,B o C"
            ],
            "metadata": {
                "azdata_cell_guid": "857c54e4-1a25-47e9-8282-8bd1f395c7b5"
            },
            "attachments": {}
        },
        {
            "cell_type": "code",
            "source": [
                "select * from INGREDIENTES where NOMBRE_INGREDIENTE LIKE '[ABC]%';"
            ],
            "metadata": {
                "azdata_cell_guid": "f6065557-4949-4646-a38a-30dc2d5740d0",
                "language": "sql"
            },
            "outputs": [],
            "execution_count": null
        },
        {
            "cell_type": "markdown",
            "source": [
                "3\\. Mostrar todos los ingredientes cuyo pais sea NULL."
            ],
            "metadata": {
                "azdata_cell_guid": "f6d31fbb-da2f-43e0-afa7-c64625e1115d"
            },
            "attachments": {}
        },
        {
            "cell_type": "code",
            "source": [
                "select * from INGREDIENTES where ID_PAIS is null;"
            ],
            "metadata": {
                "azdata_cell_guid": "e5744398-4854-4e96-a483-81a540ed352c",
                "language": "sql"
            },
            "outputs": [],
            "execution_count": null
        },
        {
            "cell_type": "markdown",
            "source": [
                "4\\. Mostrar todos los ingredientes ordenados por nombre de aquellos cuyo precio esté entre 10 y 40"
            ],
            "metadata": {
                "azdata_cell_guid": "cf4494dc-5c01-450b-9084-378e471dfca0"
            },
            "attachments": {}
        },
        {
            "cell_type": "code",
            "source": [
                "select * from INGREDIENTES\r\n",
                "where PRECIO_GRAMO BETWEEN 10 and 40\r\n",
                "order by NOMBRE_INGREDIENTE ;"
            ],
            "metadata": {
                "azdata_cell_guid": "4a4f26f8-4de4-448c-8abe-8fe0f2951c23",
                "language": "sql"
            },
            "outputs": [],
            "execution_count": null
        },
        {
            "cell_type": "markdown",
            "source": [
                "5\\. Mostrar todas las recetas, cuyo año de la fecha de creación sea inferior a 2016."
            ],
            "metadata": {
                "azdata_cell_guid": "195ce900-6a1f-4848-8dac-ee532da0129c"
            },
            "attachments": {}
        },
        {
            "cell_type": "code",
            "source": [
                "select * from RECETAS \r\n",
                "where (YEAR(FECHA_CREACION) < 2016);"
            ],
            "metadata": {
                "azdata_cell_guid": "c72e800d-4d82-4ced-87ab-23f6f64d9d11",
                "language": "sql",
                "tags": []
            },
            "outputs": [],
            "execution_count": null
        },
        {
            "cell_type": "markdown",
            "source": [
                "6\\. Mostrar todas las recetas, cuyo año de la fecha de creación esté entre 2010 y 2016."
            ],
            "metadata": {
                "azdata_cell_guid": "b880564f-bda4-4857-9c80-5c3ad09fdd5b"
            },
            "attachments": {}
        },
        {
            "cell_type": "code",
            "source": [
                "select * from RECETAS \r\n",
                "where (YEAR(FECHA_CREACION) BETWEEN 2010 and 2016);"
            ],
            "metadata": {
                "azdata_cell_guid": "0e7b9d4f-9bad-4f59-a743-58798070112c",
                "language": "sql"
            },
            "outputs": [],
            "execution_count": null
        },
        {
            "cell_type": "markdown",
            "source": [
                "7\\. Mostrar todas las recetas, ordenadas por nombre, cuyo año de creación esté entre 2010 y 2016."
            ],
            "metadata": {
                "azdata_cell_guid": "5ac13f95-e14b-4154-85d8-355d1a86093d"
            },
            "attachments": {}
        },
        {
            "cell_type": "code",
            "source": [
                "select * from RECETAS\r\n",
                "where (YEAR(FECHA_CREACION) BETWEEN 2010 and 2016)\r\n",
                "ORDER BY NOMBRE_RECETA"
            ],
            "metadata": {
                "azdata_cell_guid": "c92f9279-5910-4fbb-9be8-2e54b42ab136",
                "language": "sql"
            },
            "outputs": [],
            "execution_count": null
        },
        {
            "cell_type": "markdown",
            "source": [
                "8\\. Mostrar todas las recetas que sean de un determinado pais, ordenado primero por nombre de pais y luego por nombre de receta."
            ],
            "metadata": {
                "azdata_cell_guid": "54ccaf53-941c-43da-905b-f41079e11f5c"
            },
            "attachments": {}
        },
        {
            "cell_type": "code",
            "source": [
                "select NOMBRE_RECETA,NOMBRE_PAIS from RECETAS\r\n",
                "left join PAISES on PAISES.ID_PAIS = RECETAS.ID_PAIS\r\n",
                "ORDER BY NOMBRE_PAIS, NOMBRE_RECETA"
            ],
            "metadata": {
                "azdata_cell_guid": "f1b1c530-9b88-4495-b236-bfa2d208000c",
                "language": "sql",
                "tags": []
            },
            "outputs": [],
            "execution_count": null
        },
        {
            "cell_type": "markdown",
            "source": [
                "9\\. Determinar para cada pais que cantidad de recetas tenemos."
            ],
            "metadata": {
                "azdata_cell_guid": "3740b5bb-a6d1-452c-bcd3-bd71d1bbd950"
            },
            "attachments": {}
        },
        {
            "cell_type": "code",
            "source": [
                "SELECT PAISES.NOMBRE_PAIS,count(RECETAS.NOMBRE_RECETA) as Cantidad from PAISES\r\n",
                "left JOIN RECETAS on RECETAS.ID_PAIS = PAISES.ID_PAIS\r\n",
                "GROUP BY PAISES.NOMBRE_PAIS"
            ],
            "metadata": {
                "azdata_cell_guid": "b137724a-a6ed-41c5-9be8-1ca4cef0e58c",
                "language": "sql"
            },
            "outputs": [],
            "execution_count": null
        },
        {
            "cell_type": "markdown",
            "source": [
                "10\\. Calcular de que pais hay más recetas."
            ],
            "metadata": {
                "azdata_cell_guid": "98236e6c-a234-4599-aac7-8c1510e3401a"
            },
            "attachments": {}
        },
        {
            "cell_type": "code",
            "source": [
                "SELECT top 1 PAISES.NOMBRE_PAIS,count(RECETAS.NOMBRE_RECETA) as Cantidad from PAISES\r\n",
                "left JOIN RECETAS on RECETAS.ID_PAIS = PAISES.ID_PAIS\r\n",
                "GROUP BY PAISES.NOMBRE_PAIS\r\n",
                "ORDER by Cantidad DESC"
            ],
            "metadata": {
                "azdata_cell_guid": "952b9654-e691-46f1-8ca1-5e1815e453a8",
                "language": "sql",
                "tags": []
            },
            "outputs": [],
            "execution_count": null
        },
        {
            "cell_type": "markdown",
            "source": [
                "11\\. Calcular de que pais hay menos recetas."
            ],
            "metadata": {
                "azdata_cell_guid": "11cc5d09-6213-47ad-b3b5-d5dcddf9f3e3"
            },
            "attachments": {}
        },
        {
            "cell_type": "code",
            "source": [
                "SELECT top 1 with ties PAISES.NOMBRE_PAIS,count(RECETAS.NOMBRE_RECETA) as Cantidad from PAISES\r\n",
                "left JOIN RECETAS on RECETAS.ID_PAIS = PAISES.ID_PAIS\r\n",
                "GROUP BY PAISES.NOMBRE_PAIS\r\n",
                "ORDER by Cantidad"
            ],
            "metadata": {
                "azdata_cell_guid": "30f3082f-ceb0-440e-9b5a-5cbc21ae7501",
                "language": "sql"
            },
            "outputs": [],
            "execution_count": null
        },
        {
            "cell_type": "markdown",
            "source": [
                "12\\. Calcular la media de recetas por pais."
            ],
            "metadata": {
                "azdata_cell_guid": "1fa6cfde-9114-49f0-9ed6-de041ee63c7f"
            },
            "attachments": {}
        },
        {
            "cell_type": "code",
            "source": [
                "select avg(tabla.numero*1.0) from \r\n",
                "(SELECT        PAISES.NOMBRE_PAIS, COUNT(RECETAS.ID_RECETA) AS numero\r\n",
                "FROM            PAISES LEFT OUTER JOIN\r\n",
                "                         RECETAS ON PAISES.ID_PAIS = RECETAS.ID_PAIS\r\n",
                "GROUP BY PAISES.NOMBRE_PAIS) as tabla"
            ],
            "metadata": {
                "azdata_cell_guid": "46059097-7a06-42d8-ad13-4751b507203c",
                "language": "sql"
            },
            "outputs": [],
            "execution_count": null
        },
        {
            "cell_type": "markdown",
            "source": [
                "13\\. Mostrar todos los ingredientes de cada receta, ordenando primero por nombre de receta y luego por cantidad."
            ],
            "metadata": {
                "azdata_cell_guid": "099db3e3-93ae-456d-89a6-93e4586e67f3"
            },
            "attachments": {}
        },
        {
            "cell_type": "code",
            "source": [
                "select * from INGREDIENTES\r\n",
                "INNER join INSTRUCCIONES on INSTRUCCIONES.ID_INGREDIENTE = INGREDIENTES.ID_INGREDIENTE\r\n",
                "LEFT join RECETAS on RECETAS.ID_RECETA = INSTRUCCIONES.ID_RECETA\r\n",
                "ORDER by RECETAS.NOMBRE_RECETA, INSTRUCCIONES.CANTIDAD"
            ],
            "metadata": {
                "azdata_cell_guid": "3791decb-7aa4-4e76-9a89-a5881fb641da",
                "language": "sql"
            },
            "outputs": [],
            "execution_count": null
        },
        {
            "cell_type": "markdown",
            "source": [
                "14\\. Mostrar todos los ingredientes de cada receta, ordenando primero por nombre de receta y luego por orden."
            ],
            "metadata": {
                "azdata_cell_guid": "a7babced-63d2-45f9-a33d-6f4e8ba21af1"
            },
            "attachments": {}
        },
        {
            "cell_type": "code",
            "source": [
                "select * from INGREDIENTES\r\n",
                "INNER join INSTRUCCIONES on INSTRUCCIONES.ID_INGREDIENTE = INGREDIENTES.ID_INGREDIENTE\r\n",
                "LEFT join RECETAS on RECETAS.ID_RECETA = INSTRUCCIONES.ID_RECETA\r\n",
                "ORDER by RECETAS.NOMBRE_RECETA, INSTRUCCIONES.CANTIDAD"
            ],
            "metadata": {
                "azdata_cell_guid": "76c6ed38-e001-49c0-902b-1852c29253be",
                "language": "sql"
            },
            "outputs": [],
            "execution_count": null
        },
        {
            "cell_type": "markdown",
            "source": [
                "15\\. Calcular cual es el coste de cada una de las recetas calculandolo por el precio del gramo y la cantidad."
            ],
            "metadata": {
                "azdata_cell_guid": "2d3b6c32-1158-4209-b0da-e546d55e7d60"
            },
            "attachments": {}
        },
        {
            "cell_type": "code",
            "source": [
                ""
            ],
            "metadata": {
                "azdata_cell_guid": "d7ee50c0-895b-43db-91f3-7cd52ebf6bd4",
                "language": "sql"
            },
            "outputs": [],
            "execution_count": null
        },
        {
            "cell_type": "markdown",
            "source": [
                "16\\. Mirar a ver cuantos ingredientes hay de un pais."
            ],
            "metadata": {
                "azdata_cell_guid": "df180e2a-0f87-487c-b980-c6e8a61f093d"
            },
            "attachments": {}
        },
        {
            "cell_type": "code",
            "source": [
                ""
            ],
            "metadata": {
                "azdata_cell_guid": "2450dfd4-7fd2-4d50-af93-5500318fc4f1",
                "language": "sql"
            },
            "outputs": [],
            "execution_count": null
        },
        {
            "cell_type": "markdown",
            "source": [
                "17\\. Determinar cual es pais para el cual hay más ingredientes."
            ],
            "metadata": {
                "azdata_cell_guid": "53dedd1a-15f1-4a4b-9cf8-6c03a7963ef1"
            },
            "attachments": {}
        },
        {
            "cell_type": "code",
            "source": [
                ""
            ],
            "metadata": {
                "azdata_cell_guid": "0a4440e9-ed5b-49fd-b0f3-d48bd10f94a4",
                "language": "sql"
            },
            "outputs": [],
            "execution_count": null
        },
        {
            "cell_type": "markdown",
            "source": [
                "18\\. Determinar cual es la receta más cara por pais."
            ],
            "metadata": {
                "azdata_cell_guid": "0d1c13e4-2b1c-4405-bdde-9849cdafe0ec"
            },
            "attachments": {}
        },
        {
            "cell_type": "code",
            "source": [
                ""
            ],
            "metadata": {
                "azdata_cell_guid": "69a26bb5-17db-497b-b91e-0622f5e372c0",
                "language": "sql"
            },
            "outputs": [],
            "execution_count": null
        },
        {
            "cell_type": "markdown",
            "source": [
                "19\\. Determinar cual es la receta más barata por pais."
            ],
            "metadata": {
                "azdata_cell_guid": "72a83e23-bab0-43db-9da1-09db15289625"
            },
            "attachments": {}
        },
        {
            "cell_type": "code",
            "source": [
                ""
            ],
            "metadata": {
                "azdata_cell_guid": "2a2cda74-09e5-4abd-bb2d-35052037b771",
                "language": "sql"
            },
            "outputs": [],
            "execution_count": null
        },
        {
            "cell_type": "markdown",
            "source": [
                "  \n",
                "\n",
                "20\\. Determinar para cada ingrediente, en que receta se ha utilizado, en que cantidad y en que orden."
            ],
            "metadata": {
                "azdata_cell_guid": "67f7b83d-7419-4332-b4e5-10438dc06cb8"
            },
            "attachments": {}
        }
    ]
}