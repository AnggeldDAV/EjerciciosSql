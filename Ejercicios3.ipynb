{
    "metadata": {
        "kernelspec": {
            "name": "SQL",
            "display_name": "SQL",
            "language": "sql"
        },
        "language_info": {
            "name": "sql",
            "version": ""
        }
    },
    "nbformat_minor": 2,
    "nbformat": 4,
    "cells": [
        {
            "cell_type": "markdown",
            "source": [
                "1\\. Mostrar todos los ingredientes ordenados por precio gramo de forma descendente."
            ],
            "metadata": {
                "azdata_cell_guid": "0886342c-6cae-456e-933e-a13c555f4f86"
            },
            "attachments": {}
        },
        {
            "cell_type": "code",
            "source": [
                "select * from INGREDIENTES order by PRECIO_GRAMO desc;"
            ],
            "metadata": {
                "azdata_cell_guid": "9f42dc1f-1461-4847-a100-cad71f930b7b",
                "language": "sql"
            },
            "outputs": [],
            "execution_count": null
        },
        {
            "cell_type": "markdown",
            "source": [
                "2\\. Mostrar todos los ingredientes que comiencen por A,B o C"
            ],
            "metadata": {
                "azdata_cell_guid": "857c54e4-1a25-47e9-8282-8bd1f395c7b5"
            },
            "attachments": {}
        },
        {
            "cell_type": "code",
            "source": [
                "select * from INGREDIENTES where NOMBRE_INGREDIENTE LIKE '[ABC]%';"
            ],
            "metadata": {
                "azdata_cell_guid": "f6065557-4949-4646-a38a-30dc2d5740d0",
                "language": "sql"
            },
            "outputs": [],
            "execution_count": null
        },
        {
            "cell_type": "markdown",
            "source": [
                "3\\. Mostrar todos los ingredientes cuyo pais sea NULL."
            ],
            "metadata": {
                "azdata_cell_guid": "f6d31fbb-da2f-43e0-afa7-c64625e1115d"
            },
            "attachments": {}
        },
        {
            "cell_type": "code",
            "source": [
                "select * from INGREDIENTES where ID_PAIS is null;"
            ],
            "metadata": {
                "azdata_cell_guid": "e5744398-4854-4e96-a483-81a540ed352c",
                "language": "sql"
            },
            "outputs": [],
            "execution_count": null
        },
        {
            "cell_type": "markdown",
            "source": [
                "4\\. Mostrar todos los ingredientes ordenados por nombre de aquellos cuyo precio esté entre 10 y 40"
            ],
            "metadata": {
                "azdata_cell_guid": "cf4494dc-5c01-450b-9084-378e471dfca0"
            },
            "attachments": {}
        },
        {
            "cell_type": "code",
            "source": [
                "select * from INGREDIENTES\r\n",
                "where PRECIO_GRAMO BETWEEN 10 and 40\r\n",
                "order by NOMBRE_INGREDIENTE ;"
            ],
            "metadata": {
                "azdata_cell_guid": "4a4f26f8-4de4-448c-8abe-8fe0f2951c23",
                "language": "sql"
            },
            "outputs": [],
            "execution_count": null
        },
        {
            "cell_type": "markdown",
            "source": [
                "5\\. Mostrar todas las recetas, cuyo año de la fecha de creación sea inferior a 2016."
            ],
            "metadata": {
                "azdata_cell_guid": "195ce900-6a1f-4848-8dac-ee532da0129c"
            },
            "attachments": {}
        },
        {
            "cell_type": "code",
            "source": [
                "select * from RECETAS \r\n",
                "where (YEAR(FECHA_CREACION) < 2016);"
            ],
            "metadata": {
                "azdata_cell_guid": "c72e800d-4d82-4ced-87ab-23f6f64d9d11",
                "language": "sql",
                "tags": []
            },
            "outputs": [],
            "execution_count": null
        },
        {
            "cell_type": "markdown",
            "source": [
                "6\\. Mostrar todas las recetas, cuyo año de la fecha de creación esté entre 2010 y 2016."
            ],
            "metadata": {
                "azdata_cell_guid": "b880564f-bda4-4857-9c80-5c3ad09fdd5b"
            },
            "attachments": {}
        },
        {
            "cell_type": "code",
            "source": [
                "select * from RECETAS \r\n",
                "where (YEAR(FECHA_CREACION) BETWEEN 2010 and 2016);"
            ],
            "metadata": {
                "azdata_cell_guid": "0e7b9d4f-9bad-4f59-a743-58798070112c",
                "language": "sql"
            },
            "outputs": [],
            "execution_count": null
        },
        {
            "cell_type": "markdown",
            "source": [
                "7\\. Mostrar todas las recetas, ordenadas por nombre, cuyo año de creación esté entre 2010 y 2016."
            ],
            "metadata": {
                "azdata_cell_guid": "5ac13f95-e14b-4154-85d8-355d1a86093d"
            },
            "attachments": {}
        },
        {
            "cell_type": "code",
            "source": [
                "select * from RECETAS\r\n",
                "where (YEAR(FECHA_CREACION) BETWEEN 2010 and 2016)\r\n",
                "ORDER BY NOMBRE_RECETA"
            ],
            "metadata": {
                "azdata_cell_guid": "c92f9279-5910-4fbb-9be8-2e54b42ab136",
                "language": "sql"
            },
            "outputs": [],
            "execution_count": null
        },
        {
            "cell_type": "markdown",
            "source": [
                "8\\. Mostrar todas las recetas que sean de un determinado pais, ordenado primero por nombre de pais y luego por nombre de receta."
            ],
            "metadata": {
                "azdata_cell_guid": "54ccaf53-941c-43da-905b-f41079e11f5c"
            },
            "attachments": {}
        },
        {
            "cell_type": "code",
            "source": [
                "select NOMBRE_RECETA,NOMBRE_PAIS from RECETAS\r\n",
                "left join PAISES on PAISES.ID_PAIS = RECETAS.ID_PAIS\r\n",
                "ORDER BY NOMBRE_PAIS, NOMBRE_RECETA"
            ],
            "metadata": {
                "azdata_cell_guid": "f1b1c530-9b88-4495-b236-bfa2d208000c",
                "language": "sql",
                "tags": []
            },
            "outputs": [],
            "execution_count": null
        },
        {
            "cell_type": "markdown",
            "source": [
                "9\\. Determinar para cada pais que cantidad de recetas tenemos."
            ],
            "metadata": {
                "azdata_cell_guid": "3740b5bb-a6d1-452c-bcd3-bd71d1bbd950"
            },
            "attachments": {}
        },
        {
            "cell_type": "code",
            "source": [
                "SELECT PAISES.NOMBRE_PAIS,count(RECETAS.NOMBRE_RECETA) as Cantidad from PAISES\r\n",
                "left JOIN RECETAS on RECETAS.ID_PAIS = PAISES.ID_PAIS\r\n",
                "GROUP BY PAISES.NOMBRE_PAIS"
            ],
            "metadata": {
                "azdata_cell_guid": "b137724a-a6ed-41c5-9be8-1ca4cef0e58c",
                "language": "sql"
            },
            "outputs": [],
            "execution_count": null
        },
        {
            "cell_type": "markdown",
            "source": [
                "10\\. Calcular de que pais hay más recetas."
            ],
            "metadata": {
                "azdata_cell_guid": "98236e6c-a234-4599-aac7-8c1510e3401a"
            },
            "attachments": {}
        },
        {
            "cell_type": "code",
            "source": [
                "SELECT top 1 PAISES.NOMBRE_PAIS,count(RECETAS.NOMBRE_RECETA) as Cantidad from PAISES\r\n",
                "left JOIN RECETAS on RECETAS.ID_PAIS = PAISES.ID_PAIS\r\n",
                "GROUP BY PAISES.NOMBRE_PAIS\r\n",
                "ORDER by Cantidad DESC"
            ],
            "metadata": {
                "azdata_cell_guid": "952b9654-e691-46f1-8ca1-5e1815e453a8",
                "language": "sql",
                "tags": []
            },
            "outputs": [],
            "execution_count": null
        },
        {
            "cell_type": "markdown",
            "source": [
                "11\\. Calcular de que pais hay menos recetas."
            ],
            "metadata": {
                "azdata_cell_guid": "11cc5d09-6213-47ad-b3b5-d5dcddf9f3e3"
            },
            "attachments": {}
        },
        {
            "cell_type": "code",
            "source": [
                "SELECT top 1 with ties PAISES.NOMBRE_PAIS,count(RECETAS.NOMBRE_RECETA) as Cantidad from PAISES\r\n",
                "left JOIN RECETAS on RECETAS.ID_PAIS = PAISES.ID_PAIS\r\n",
                "GROUP BY PAISES.NOMBRE_PAIS\r\n",
                "ORDER by Cantidad"
            ],
            "metadata": {
                "azdata_cell_guid": "30f3082f-ceb0-440e-9b5a-5cbc21ae7501",
                "language": "sql"
            },
            "outputs": [],
            "execution_count": null
        },
        {
            "cell_type": "markdown",
            "source": [
                "12\\. Calcular la media de recetas por pais."
            ],
            "metadata": {
                "azdata_cell_guid": "1fa6cfde-9114-49f0-9ed6-de041ee63c7f"
            },
            "attachments": {}
        },
        {
            "cell_type": "code",
            "source": [
                "select avg(tabla.numero*1.0) from \r\n",
                "(SELECT        PAISES.NOMBRE_PAIS, COUNT(RECETAS.ID_RECETA) AS numero\r\n",
                "FROM            PAISES LEFT OUTER JOIN\r\n",
                "                         RECETAS ON PAISES.ID_PAIS = RECETAS.ID_PAIS\r\n",
                "GROUP BY PAISES.NOMBRE_PAIS) as tabla"
            ],
            "metadata": {
                "azdata_cell_guid": "46059097-7a06-42d8-ad13-4751b507203c",
                "language": "sql"
            },
            "outputs": [],
            "execution_count": null
        },
        {
            "cell_type": "markdown",
            "source": [
                "13\\. Mostrar todos los ingredientes de cada receta, ordenando primero por nombre de receta y luego por cantidad."
            ],
            "metadata": {
                "azdata_cell_guid": "099db3e3-93ae-456d-89a6-93e4586e67f3"
            },
            "attachments": {}
        },
        {
            "cell_type": "code",
            "source": [
                "select * from INGREDIENTES\r\n",
                "INNER join INSTRUCCIONES on INSTRUCCIONES.ID_INGREDIENTE = INGREDIENTES.ID_INGREDIENTE\r\n",
                "LEFT join RECETAS on RECETAS.ID_RECETA = INSTRUCCIONES.ID_RECETA\r\n",
                "ORDER by RECETAS.NOMBRE_RECETA, INSTRUCCIONES.CANTIDAD"
            ],
            "metadata": {
                "azdata_cell_guid": "3791decb-7aa4-4e76-9a89-a5881fb641da",
                "language": "sql"
            },
            "outputs": [],
            "execution_count": null
        },
        {
            "cell_type": "markdown",
            "source": [
                "14\\. Mostrar todos los ingredientes de cada receta, ordenando primero por nombre de receta y luego por orden."
            ],
            "metadata": {
                "azdata_cell_guid": "a7babced-63d2-45f9-a33d-6f4e8ba21af1"
            },
            "attachments": {}
        },
        {
            "cell_type": "code",
            "source": [
                "select * from INGREDIENTES\r\n",
                "INNER join INSTRUCCIONES on INSTRUCCIONES.ID_INGREDIENTE = INGREDIENTES.ID_INGREDIENTE\r\n",
                "LEFT join RECETAS on RECETAS.ID_RECETA = INSTRUCCIONES.ID_RECETA\r\n",
                "ORDER by RECETAS.NOMBRE_RECETA, INSTRUCCIONES.CANTIDAD"
            ],
            "metadata": {
                "azdata_cell_guid": "76c6ed38-e001-49c0-902b-1852c29253be",
                "language": "sql"
            },
            "outputs": [
                {
                    "output_type": "display_data",
                    "data": {
                        "text/html": "(5 rows affected)"
                    },
                    "metadata": {}
                },
                {
                    "output_type": "display_data",
                    "data": {
                        "text/html": "Total execution time: 00:00:00.005"
                    },
                    "metadata": {}
                },
                {
                    "output_type": "execute_result",
                    "metadata": {},
                    "execution_count": 3,
                    "data": {
                        "application/vnd.dataresource+json": {
                            "schema": {
                                "fields": [
                                    {
                                        "name": "ID_INGREDIENTE"
                                    },
                                    {
                                        "name": "NOMBRE_INGREDIENTE"
                                    },
                                    {
                                        "name": "PRECIO_GRAMO"
                                    },
                                    {
                                        "name": "ID_TIPO_INGREDIENTE"
                                    },
                                    {
                                        "name": "ID_PAIS"
                                    },
                                    {
                                        "name": "ID_RECETA"
                                    },
                                    {
                                        "name": "ID_INGREDIENTE"
                                    },
                                    {
                                        "name": "CANTIDAD"
                                    },
                                    {
                                        "name": "NOTA"
                                    },
                                    {
                                        "name": "ORDEN"
                                    },
                                    {
                                        "name": "ID_RECETA"
                                    },
                                    {
                                        "name": "NOMBRE_RECETA"
                                    },
                                    {
                                        "name": "ID_PAIS"
                                    },
                                    {
                                        "name": "FECHA_CREACION"
                                    },
                                    {
                                        "name": "DESCRIPCION"
                                    }
                                ]
                            },
                            "data": [
                                {
                                    "ID_INGREDIENTE": "3",
                                    "NOMBRE_INGREDIENTE": "CHOCOLATE",
                                    "PRECIO_GRAMO": "30,00",
                                    "ID_TIPO_INGREDIENTE": "6",
                                    "ID_PAIS": "2 ",
                                    "ID_RECETA": "3",
                                    "CANTIDAD": "1",
                                    "NOTA": "DERRETIR EL CHOCOLATE",
                                    "ORDEN": "1",
                                    "NOMBRE_RECETA": "COULANT",
                                    "FECHA_CREACION": "2012-03-01 00:00:00.000",
                                    "DESCRIPCION": "POSTRE DE CHOCOLATE"
                                },
                                {
                                    "ID_INGREDIENTE": "1",
                                    "NOMBRE_INGREDIENTE": "LECHUGA",
                                    "PRECIO_GRAMO": "10,00",
                                    "ID_TIPO_INGREDIENTE": "5",
                                    "ID_PAIS": "1 ",
                                    "ID_RECETA": "1",
                                    "CANTIDAD": "2",
                                    "NOTA": "CORTARLA EN TROZOS PEQUEÑOS",
                                    "ORDEN": "1",
                                    "NOMBRE_RECETA": "ENSALADA",
                                    "FECHA_CREACION": "2018-01-01 00:00:00.000",
                                    "DESCRIPCION": "ENSALADA ILUSTRADA"
                                },
                                {
                                    "ID_INGREDIENTE": "5",
                                    "NOMBRE_INGREDIENTE": "TOMATE",
                                    "PRECIO_GRAMO": "3,00",
                                    "ID_TIPO_INGREDIENTE": "5",
                                    "ID_PAIS": "1 ",
                                    "ID_RECETA": "1",
                                    "CANTIDAD": "3",
                                    "NOTA": "TROZEARLO EN RODAJAS PEQUEÑAS",
                                    "ORDEN": "2",
                                    "NOMBRE_RECETA": "ENSALADA",
                                    "FECHA_CREACION": "2018-01-01 00:00:00.000",
                                    "DESCRIPCION": "ENSALADA ILUSTRADA"
                                },
                                {
                                    "ID_INGREDIENTE": "2",
                                    "NOMBRE_INGREDIENTE": "TERNERA",
                                    "PRECIO_GRAMO": "100,00",
                                    "ID_TIPO_INGREDIENTE": "1",
                                    "ID_PAIS": "1 ",
                                    "ID_RECETA": "2",
                                    "CANTIDAD": "1",
                                    "NOTA": "FREIRLA LA TERNERA A FUEGO MEDIO",
                                    "ORDEN": "2",
                                    "NOMBRE_RECETA": "PEPITO TERNERA",
                                    "FECHA_CREACION": "2015-01-01 00:00:00.000",
                                    "DESCRIPCION": "BOCADILLO DE TERNERA"
                                },
                                {
                                    "ID_INGREDIENTE": "6",
                                    "NOMBRE_INGREDIENTE": "PAN DE BARRA",
                                    "PRECIO_GRAMO": "1,00",
                                    "ID_TIPO_INGREDIENTE": "9",
                                    "ID_PAIS": "1 ",
                                    "ID_RECETA": "2",
                                    "CANTIDAD": "1",
                                    "NOTA": "CORTAR 1/3 DE LA BARRA",
                                    "ORDEN": "1",
                                    "NOMBRE_RECETA": "PEPITO TERNERA",
                                    "FECHA_CREACION": "2015-01-01 00:00:00.000",
                                    "DESCRIPCION": "BOCADILLO DE TERNERA"
                                }
                            ]
                        },
                        "text/html": [
                            "<table>",
                            "<tr><th>ID_INGREDIENTE</th><th>NOMBRE_INGREDIENTE</th><th>PRECIO_GRAMO</th><th>ID_TIPO_INGREDIENTE</th><th>ID_PAIS</th><th>ID_RECETA</th><th>ID_INGREDIENTE</th><th>CANTIDAD</th><th>NOTA</th><th>ORDEN</th><th>ID_RECETA</th><th>NOMBRE_RECETA</th><th>ID_PAIS</th><th>FECHA_CREACION</th><th>DESCRIPCION</th></tr>",
                            "<tr><td>3</td><td>CHOCOLATE</td><td>30,00</td><td>6</td><td>2 </td><td>3</td><td>3</td><td>1</td><td>DERRETIR EL CHOCOLATE</td><td>1</td><td>3</td><td>COULANT</td><td>2 </td><td>2012-03-01 00:00:00.000</td><td>POSTRE DE CHOCOLATE</td></tr>",
                            "<tr><td>1</td><td>LECHUGA</td><td>10,00</td><td>5</td><td>1 </td><td>1</td><td>1</td><td>2</td><td>CORTARLA EN TROZOS PEQUEÑOS</td><td>1</td><td>1</td><td>ENSALADA</td><td>1 </td><td>2018-01-01 00:00:00.000</td><td>ENSALADA ILUSTRADA</td></tr>",
                            "<tr><td>5</td><td>TOMATE</td><td>3,00</td><td>5</td><td>2 </td><td>1</td><td>5</td><td>3</td><td>TROZEARLO EN RODAJAS PEQUEÑAS</td><td>2</td><td>1</td><td>ENSALADA</td><td>1 </td><td>2018-01-01 00:00:00.000</td><td>ENSALADA ILUSTRADA</td></tr>",
                            "<tr><td>2</td><td>TERNERA</td><td>100,00</td><td>1</td><td>1 </td><td>2</td><td>2</td><td>1</td><td>FREIRLA LA TERNERA A FUEGO MEDIO</td><td>2</td><td>2</td><td>PEPITO TERNERA</td><td>1 </td><td>2015-01-01 00:00:00.000</td><td>BOCADILLO DE TERNERA</td></tr>",
                            "<tr><td>6</td><td>PAN DE BARRA</td><td>1,00</td><td>9</td><td>1 </td><td>2</td><td>6</td><td>1</td><td>CORTAR 1/3 DE LA BARRA</td><td>1</td><td>2</td><td>PEPITO TERNERA</td><td>1 </td><td>2015-01-01 00:00:00.000</td><td>BOCADILLO DE TERNERA</td></tr>",
                            "</table>"
                        ]
                    }
                }
            ],
            "execution_count": 3
        },
        {
            "cell_type": "markdown",
            "source": [
                "15\\. Calcular cual es el coste de cada una de las recetas calculandolo por el precio del gramo y la cantidad."
            ],
            "metadata": {
                "azdata_cell_guid": "2d3b6c32-1158-4209-b0da-e546d55e7d60"
            },
            "attachments": {}
        },
        {
            "cell_type": "code",
            "source": [
                "SELECT RECETAS.NOMBRE_RECETA,sum((PRECIO_GRAMO * INSTRUCCIONES.CANTIDAD)) as coste from INGREDIENTES\r\n",
                "INNER join INSTRUCCIONES on INSTRUCCIONES.ID_INGREDIENTE = INGREDIENTES.ID_INGREDIENTE\r\n",
                "INNER JOIN RECETAS on RECETAS.ID_RECETA = INSTRUCCIONES.ID_RECETA\r\n",
                "GROUP by RECETAS.NOMBRE_RECETA\r\n",
                ""
            ],
            "metadata": {
                "azdata_cell_guid": "d7ee50c0-895b-43db-91f3-7cd52ebf6bd4",
                "language": "sql",
                "tags": []
            },
            "outputs": [
                {
                    "output_type": "display_data",
                    "data": {
                        "text/html": "(3 rows affected)"
                    },
                    "metadata": {}
                },
                {
                    "output_type": "display_data",
                    "data": {
                        "text/html": "Total execution time: 00:00:00.003"
                    },
                    "metadata": {}
                },
                {
                    "output_type": "execute_result",
                    "metadata": {},
                    "execution_count": 23,
                    "data": {
                        "application/vnd.dataresource+json": {
                            "schema": {
                                "fields": [
                                    {
                                        "name": "NOMBRE_RECETA"
                                    },
                                    {
                                        "name": "coste"
                                    }
                                ]
                            },
                            "data": [
                                {
                                    "NOMBRE_RECETA": "COULANT",
                                    "coste": "30,00"
                                },
                                {
                                    "NOMBRE_RECETA": "ENSALADA",
                                    "coste": "29,00"
                                },
                                {
                                    "NOMBRE_RECETA": "PEPITO TERNERA",
                                    "coste": "101,00"
                                }
                            ]
                        },
                        "text/html": [
                            "<table>",
                            "<tr><th>NOMBRE_RECETA</th><th>coste</th></tr>",
                            "<tr><td>COULANT</td><td>30,00</td></tr>",
                            "<tr><td>ENSALADA</td><td>29,00</td></tr>",
                            "<tr><td>PEPITO TERNERA</td><td>101,00</td></tr>",
                            "</table>"
                        ]
                    }
                }
            ],
            "execution_count": 23
        },
        {
            "cell_type": "markdown",
            "source": [
                "16\\. Mirar a ver cuantos ingredientes hay de un pais."
            ],
            "metadata": {
                "azdata_cell_guid": "df180e2a-0f87-487c-b980-c6e8a61f093d"
            },
            "attachments": {}
        },
        {
            "cell_type": "code",
            "source": [
                "select PAISES.NOMBRE_PAIS,COUNT(INGREDIENTES.NOMBRE_INGREDIENTE) as numeroIngredientes from INGREDIENTES\r\n",
                "inner join INSTRUCCIONES on INSTRUCCIONES.ID_INGREDIENTE = INGREDIENTES.ID_INGREDIENTE\r\n",
                "inner join RECETAS on RECETAS.ID_RECETA = INSTRUCCIONES.ID_RECETA\r\n",
                "RIGHT join PAISES ON  PAISES.ID_PAIS = RECETAS.ID_PAIS\r\n",
                "GROUP by NOMBRE_PAIS"
            ],
            "metadata": {
                "azdata_cell_guid": "2450dfd4-7fd2-4d50-af93-5500318fc4f1",
                "language": "sql",
                "tags": []
            },
            "outputs": [
                {
                    "output_type": "display_data",
                    "data": {
                        "text/html": "Warning: Null value is eliminated by an aggregate or other SET operation."
                    },
                    "metadata": {}
                },
                {
                    "output_type": "display_data",
                    "data": {
                        "text/html": "(4 rows affected)"
                    },
                    "metadata": {}
                },
                {
                    "output_type": "display_data",
                    "data": {
                        "text/html": "Total execution time: 00:00:00.002"
                    },
                    "metadata": {}
                },
                {
                    "output_type": "execute_result",
                    "metadata": {},
                    "execution_count": 72,
                    "data": {
                        "application/vnd.dataresource+json": {
                            "schema": {
                                "fields": [
                                    {
                                        "name": "NOMBRE_PAIS"
                                    },
                                    {
                                        "name": "numeroIngredientes"
                                    }
                                ]
                            },
                            "data": [
                                {
                                    "NOMBRE_PAIS": "ALEMANIA",
                                    "numeroIngredientes": "0"
                                },
                                {
                                    "NOMBRE_PAIS": "EEUU",
                                    "numeroIngredientes": "0"
                                },
                                {
                                    "NOMBRE_PAIS": "ESPAÑA",
                                    "numeroIngredientes": "4"
                                },
                                {
                                    "NOMBRE_PAIS": "FRANCIA",
                                    "numeroIngredientes": "1"
                                }
                            ]
                        },
                        "text/html": [
                            "<table>",
                            "<tr><th>NOMBRE_PAIS</th><th>numeroIngredientes</th></tr>",
                            "<tr><td>ALEMANIA</td><td>0</td></tr>",
                            "<tr><td>EEUU</td><td>0</td></tr>",
                            "<tr><td>ESPAÑA</td><td>4</td></tr>",
                            "<tr><td>FRANCIA</td><td>1</td></tr>",
                            "</table>"
                        ]
                    }
                }
            ],
            "execution_count": 72
        },
        {
            "cell_type": "markdown",
            "source": [
                "17\\. Determinar cual es pais para el cual hay más ingredientes."
            ],
            "metadata": {
                "azdata_cell_guid": "53dedd1a-15f1-4a4b-9cf8-6c03a7963ef1"
            },
            "attachments": {}
        },
        {
            "cell_type": "code",
            "source": [
                "select top (1) PAISES.NOMBRE_PAIS,COUNT(INGREDIENTES.NOMBRE_INGREDIENTE) as numeroIngredientes from INGREDIENTES\r\n",
                "inner join INSTRUCCIONES on INSTRUCCIONES.ID_INGREDIENTE = INGREDIENTES.ID_INGREDIENTE\r\n",
                "inner join RECETAS on RECETAS.ID_RECETA = INSTRUCCIONES.ID_RECETA\r\n",
                "RIGHT join PAISES ON  PAISES.ID_PAIS = RECETAS.ID_PAIS\r\n",
                "GROUP by NOMBRE_PAIS\r\n",
                "ORDER by numeroIngredientes desc"
            ],
            "metadata": {
                "azdata_cell_guid": "0a4440e9-ed5b-49fd-b0f3-d48bd10f94a4",
                "language": "sql"
            },
            "outputs": [
                {
                    "output_type": "display_data",
                    "data": {
                        "text/html": "Warning: Null value is eliminated by an aggregate or other SET operation."
                    },
                    "metadata": {}
                },
                {
                    "output_type": "display_data",
                    "data": {
                        "text/html": "(1 row affected)"
                    },
                    "metadata": {}
                },
                {
                    "output_type": "display_data",
                    "data": {
                        "text/html": "Total execution time: 00:00:00.006"
                    },
                    "metadata": {}
                },
                {
                    "output_type": "execute_result",
                    "metadata": {},
                    "execution_count": 69,
                    "data": {
                        "application/vnd.dataresource+json": {
                            "schema": {
                                "fields": [
                                    {
                                        "name": "NOMBRE_PAIS"
                                    },
                                    {
                                        "name": "numeroIngredientes"
                                    }
                                ]
                            },
                            "data": [
                                {
                                    "NOMBRE_PAIS": "ESPAÑA",
                                    "numeroIngredientes": "4"
                                }
                            ]
                        },
                        "text/html": [
                            "<table>",
                            "<tr><th>NOMBRE_PAIS</th><th>numeroIngredientes</th></tr>",
                            "<tr><td>ESPAÑA</td><td>4</td></tr>",
                            "</table>"
                        ]
                    }
                }
            ],
            "execution_count": 69
        },
        {
            "cell_type": "markdown",
            "source": [
                "18\\. Determinar cual es la receta más cara por pais."
            ],
            "metadata": {
                "azdata_cell_guid": "0d1c13e4-2b1c-4405-bdde-9849cdafe0ec"
            },
            "attachments": {}
        },
        {
            "cell_type": "code",
            "source": [
                ""
            ],
            "metadata": {
                "azdata_cell_guid": "69a26bb5-17db-497b-b91e-0622f5e372c0",
                "language": "sql"
            },
            "outputs": [],
            "execution_count": null
        },
        {
            "cell_type": "markdown",
            "source": [
                "19\\. Determinar cual es la receta más barata por pais."
            ],
            "metadata": {
                "azdata_cell_guid": "72a83e23-bab0-43db-9da1-09db15289625"
            },
            "attachments": {}
        },
        {
            "cell_type": "code",
            "source": [
                ""
            ],
            "metadata": {
                "azdata_cell_guid": "2a2cda74-09e5-4abd-bb2d-35052037b771",
                "language": "sql"
            },
            "outputs": [],
            "execution_count": null
        },
        {
            "cell_type": "markdown",
            "source": [
                "  \n",
                "\n",
                "20\\. Determinar para cada ingrediente, en que receta se ha utilizado, en que cantidad y en que orden."
            ],
            "metadata": {
                "azdata_cell_guid": "67f7b83d-7419-4332-b4e5-10438dc06cb8"
            },
            "attachments": {}
        },
        {
            "cell_type": "code",
            "source": [
                ""
            ],
            "metadata": {
                "azdata_cell_guid": "de08c290-9ae8-4cdf-b5c3-5f358bb91c7a",
                "language": "sql"
            },
            "outputs": [],
            "execution_count": null
        },
        {
            "cell_type": "markdown",
            "source": [
                "select \\* from INGREDIENTES;\n",
                "\n",
                "select \\* from TIPOS\\_INGREDIENTES;\n",
                "\n",
                "select \\* from INSTRUCCIONES;\n",
                "\n",
                "select \\* from RECETAS;\n",
                "\n",
                "select \\* from PAISES;"
            ],
            "metadata": {
                "azdata_cell_guid": "29704123-7dc7-47cf-a27e-e0d4177a3934"
            },
            "attachments": {}
        }
    ]
}